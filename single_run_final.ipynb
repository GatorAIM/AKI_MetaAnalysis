{
 "cells": [
  {
   "cell_type": "code",
   "execution_count": null,
   "id": "190f43ac-2162-41c9-a5e1-2a9747290e32",
   "metadata": {
    "tags": []
   },
   "outputs": [],
   "source": [
    "import importlib\n",
    "\n",
    "import ipynb.fs.full.preprocessing0\n",
    "import ipynb.fs.full.preprocessing05\n",
    "#import ipynb.fs.full.prepossessing075_akistage\n",
    "import preprocessing1\n",
    "#import ipynb.fs.full.preprocessing2_BT\n",
    "import preprocessing2_BT\n",
    "\n",
    "import ipynb.fs.full.preprocessing25_BTcorr\n",
    "import ipynb.fs.full.preprocessing3_smote\n",
    "#import ipynb.fs.full.preprocessing4\n",
    "import preprocessing4\n",
    "\n",
    "#import ipynb.fs.full.runxgboost\n",
    "import runxgboost\n",
    "\n",
    "#import ipynb.fs.full.postprocessing1_SHAP\n",
    "\n",
    "import postprocessing1_SHAP\n",
    "\n",
    "import ipynb.fs.full.postprocessing3_collect\n",
    "\n",
    "from ipynb.fs.full.slackbot import ping_slack\n",
    "import pandas as pd\n",
    "import xgboost as xgb\n",
    "import numpy as np\n",
    "import sklearn\n",
    "from sklearn.preprocessing import OneHotEncoder\n",
    "from sklearn.impute import SimpleImputer\n",
    "from imblearn.over_sampling import SMOTE\n",
    "from imblearn.pipeline import make_pipeline\n",
    "from imblearn.combine import SMOTEENN\n",
    "from imblearn.over_sampling import SMOTENC\n",
    "import matplotlib.pyplot as plt\n",
    "from PIL import Image\n",
    "from scipy.interpolate import BSpline, make_interp_spline, interp1d\n",
    "#import rpy2.robjects as robjects\n",
    "#from rpy2.robjects.packages import importr\n",
    "import csv\n",
    "from dfply import *\n",
    "from xgboost import XGBClassifier\n",
    "import itertools\n",
    "import os\n",
    "from tqdm import tqdm\n",
    "from os import listdir\n",
    "from os.path import isfile, join\n",
    "from os.path import exists\n",
    "import logging\n",
    "import time\n",
    "\n",
    "import utils_function"
   ]
  },
  {
   "cell_type": "code",
   "execution_count": null,
   "id": "17e82d91-dc7a-4a3f-97d7-db785f6183c3",
   "metadata": {
    "tags": []
   },
   "outputs": [],
   "source": [
    "#Reload library to update on any change\n",
    "#importlib.reload(ipynb.fs.full.preprocessing0)\n",
    "importlib.reload(ipynb.fs.full.preprocessing05)\n",
    "#importlib.reload(ipynb.fs.full.preapossessing075_akistage)\n",
    "importlib.reload(preprocessing1)\n",
    "importlib.reload(preprocessing2_BT)\n",
    "importlib.reload(ipynb.fs.full.preprocessing25_BTcorr)\n",
    "importlib.reload(ipynb.fs.full.preprocessing3_smote)\n",
    "# #importlib.reload(ipynb.fs.full.preprocessing4)\n",
    "importlib.reload(preprocessing4)\n",
    "importlib.reload(runxgboost)\n",
    "importlib.reload(postprocessing1_SHAP)\n",
    "importlib.reload(ipynb.fs.full.postprocessing3_collect)\n",
    "importlib.reload(postprocessing1_SHAP)\n",
    "importlib.reload(utils_function)"
   ]
  },
  {
   "cell_type": "markdown",
   "id": "486cd084-3797-4f77-b055-812f223161a2",
   "metadata": {
    "tags": []
   },
   "source": [
    "# Data Requirement\n",
    "Data should be in POCRNET CDM Format"
   ]
  },
  {
   "cell_type": "markdown",
   "id": "6bf3f7a7-1b9e-401b-9a8a-8538576a943f",
   "metadata": {
    "tags": []
   },
   "source": [
    "# Generate Lab Loinc groups and Unit\n",
    "Run labunitunify.ipynb"
   ]
  },
  {
   "cell_type": "markdown",
   "id": "33afa2d9-45d0-4982-be72-6979fc041897",
   "metadata": {
    "tags": []
   },
   "source": [
    "# Generate RX to ATC conversion Table\n",
    "Run medunify.ipynb and rxnorm2atcR_site.ipynb"
   ]
  },
  {
   "cell_type": "markdown",
   "id": "d593b823-223b-4218-beee-33f988a67286",
   "metadata": {
    "tags": []
   },
   "source": [
    "# Preprocessing "
   ]
  },
  {
   "cell_type": "code",
   "execution_count": null,
   "id": "4077e9e5-0440-4036-8186-696500729583",
   "metadata": {
    "tags": []
   },
   "outputs": [],
   "source": [
    "site_list = ['KUMC', 'UTSW', 'MCW', 'UofU', 'UIOWA', 'UMHC', 'UPITT', 'UTHSCSA', 'UNMC']\n",
    "for site in site_list:\n",
    "    # Read the config files for variables\n",
    "    # The location of config files is at '/home/hoyinchan/code/AKI_CDM_PY/configs_files/publish_config/Configs_init.txt'\n",
    "    configs_variables = utils_function.read_config(site, suffix='init', config_base_location='/home/hoyinchan/code/AKI_CDM_PY/configs_files/publish_config/')\n",
    "    utils_function.write_config(configs_variables, suffix=site)\n",
    "    configs_variables\n",
    "    \n",
    "configs_variable = utils_function.read_config('KUMC')"
   ]
  },
  {
   "cell_type": "code",
   "execution_count": null,
   "id": "aec71774-f2a5-4067-b12f-83e79d594661",
   "metadata": {
    "tags": []
   },
   "outputs": [],
   "source": [
    "# Unify Lab\n",
    "preprocessing1.unify_lab(configs_variables)\n",
    "\n",
    "# Drop outliner\n",
    "ipynb.fs.full.preprocessing05.lab_drop_outliner(configs_variables)\n",
    "ipynb.fs.full.preprocessing05.vital_drop_outliner(configs_variables)\n",
    "\n",
    "# Split dataset into smaller files if needed for RAM consideration, using 'year' as index \n",
    "# Run parquet_splitter.py (reference: parquet_splitter.ipynb)\n",
    "\n",
    "onset = pd.read_parquet(configs_variable['datafolder']+configs_variable['site']+'/p0_onset_'+configs_variable['site']+'.parquet')\n",
    "years = list(pd.to_datetime(onset['ADMIT_DATE']).dt.year.unique())    \n",
    "\n",
    "# Preprocess raw table into extracted table (per year)\n",
    "for year in years:\n",
    "    preprocessing1.demo(configs_variable,year)\n",
    "    preprocessing1.vital(configs_variable,year)\n",
    "    preprocessing1.dx(configs_variable,year)\n",
    "    preprocessing1.px(configs_variable,year)\n",
    "    preprocessing1.lab(configs_variable,year)            \n",
    "    preprocessing1.amed(configs_variable,year)\n",
    "    preprocessing2_BT.bigtable(configs_variable,year)\n",
    "\n",
    "# Preprocess raw table into extracted table, drop missing data, set flag, rename column\n",
    "preprocessing4.combinebtpos(configs_variable)\n",
    "\n",
    "# GLOBAL\n",
    "# Collect ALL site, then use preprocessing25_BTcorr to remove correlated variables\n",
    "# Generate site correlation\n",
    "ipynb.fs.full.preprocessing25_BTcorr.generate_corr(configs_variable)\n",
    "\n",
    "# Calculate global corr and feature selection (run it in preprocessing25_BTcorr.ipynb\n",
    "#ipynb.fs.full.preprocessing25_BTcorr.calculate_corr_occurence_new()\n",
    "\n",
    "# Drop columns based on result\n",
    "ipynb.fs.full.preprocessing25_BTcorr.remove_correlated_features(configs_variable)"
   ]
  },
  {
   "cell_type": "markdown",
   "id": "c7b67f14-3265-4eed-a9e7-9d4ddc28316a",
   "metadata": {
    "tags": []
   },
   "source": [
    "# Run CatBoost"
   ]
  },
  {
   "cell_type": "code",
   "execution_count": null,
   "id": "2318ed39-8d89-4e05-a4d9-506cb386fee5",
   "metadata": {
    "tags": []
   },
   "outputs": [],
   "source": [
    "# Create test train split with different oversample strategy\n",
    "ipynb.fs.full.preprocessing3_smote.generate_all_pre_catboost(configs_variable)\n",
    "\n",
    "# Create Cross validation sets\n",
    "ipynb.fs.full.preprocessing3_smote.gen_crossvalidate(configs_variable)\n",
    "\n",
    "# Run single catboost\n",
    "runxgboost.runxgboost(configs_variable)\n",
    "\n",
    "# Run Cross Validate\n",
    "ipynb.fs.full.runxgboost.gen_crossvalidate(configs_variable)\n",
    "for i in range(configs_variables['n_splits']):\n",
    "    runxgboost.boosttrapcatboost(configs_variable, i)"
   ]
  },
  {
   "cell_type": "markdown",
   "id": "64ab7128-a557-42d8-a67c-2c792c3a399d",
   "metadata": {
    "tags": []
   },
   "source": [
    "# Postprocessing "
   ]
  },
  {
   "cell_type": "code",
   "execution_count": null,
   "id": "8dfb466a-fdbf-4193-a767-35f3e03e4e03",
   "metadata": {
    "tags": []
   },
   "outputs": [],
   "source": [
    "# Start Multisite NOW\n",
    "\n",
    "sites = ['MCW', 'UIOWA', 'UMHC', 'UNMC', 'UofU', 'UTHSCSA', 'KUMC', 'UTSW', 'UPITT']\n",
    "\n",
    "# External validation\n",
    "for configs_variables_m in configs_variables:\n",
    "    for configs_variables_d in configs_variables:\n",
    "        for i in range(configs_variables['n_splits']):\n",
    "            postprocessing1_SHAP.collectSHAP_cross_sub_validate(configs_variables_m, configs_variables_d, i)\n",
    "            \n",
    "# Collect SHAP raw for Metaregression\n",
    "ipynb.fs.full.postprocessing3_collect.collect_collectSHAPraw_cross_sub(configs_variables)"
   ]
  },
  {
   "cell_type": "markdown",
   "id": "2721172c-1467-4d73-9b1a-9d0d827a6f50",
   "metadata": {
    "tags": []
   },
   "source": [
    "# Meta-regression\n",
    "Run MetaRegression/metagam3R.ipynb"
   ]
  },
  {
   "cell_type": "markdown",
   "id": "47bd7727-b329-4b5a-accf-5a57fef6c1c3",
   "metadata": {
    "tags": []
   },
   "source": [
    "# Interrupted Time series\n",
    "Run timeseries/medication_its.ipynb and timeseries/medication_itsR.ipynb"
   ]
  },
  {
   "cell_type": "code",
   "execution_count": null,
   "id": "b0f5c751-060b-40ef-a92a-4662d42a90c7",
   "metadata": {
    "tags": []
   },
   "outputs": [],
   "source": []
  },
  {
   "cell_type": "code",
   "execution_count": null,
   "id": "8bd749a0-3576-40d9-98f1-0dd07d43c8d3",
   "metadata": {
    "tags": []
   },
   "outputs": [],
   "source": []
  },
  {
   "cell_type": "code",
   "execution_count": null,
   "id": "9de860a9-9d57-4463-95ee-ffaba466d35f",
   "metadata": {
    "tags": []
   },
   "outputs": [],
   "source": []
  },
  {
   "cell_type": "code",
   "execution_count": null,
   "id": "fbce1bd2-4282-42b6-acfa-5d7a59ab5e04",
   "metadata": {
    "tags": []
   },
   "outputs": [],
   "source": [
    "# Turn to timeseries folder for timeseries analysis"
   ]
  },
  {
   "cell_type": "code",
   "execution_count": null,
   "id": "2a0068a8-92ba-4870-835f-f6596b41bdc2",
   "metadata": {
    "tags": []
   },
   "outputs": [],
   "source": []
  }
 ],
 "metadata": {
  "kernelspec": {
   "display_name": "AKI_CDM_PY",
   "language": "python",
   "name": "aki_cdm_py"
  },
  "language_info": {
   "codemirror_mode": {
    "name": "ipython",
    "version": 3
   },
   "file_extension": ".py",
   "mimetype": "text/x-python",
   "name": "python",
   "nbconvert_exporter": "python",
   "pygments_lexer": "ipython3",
   "version": "3.6.15"
  }
 },
 "nbformat": 4,
 "nbformat_minor": 5
}
